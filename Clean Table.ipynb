{
 "metadata": {
  "name": "",
  "signature": "sha256:9111b79304ef419c5939fddd022e9a46c097fd50b565395ab28a84553379b93d"
 },
 "nbformat": 3,
 "nbformat_minor": 0,
 "worksheets": [
  {
   "cells": [
    {
     "cell_type": "code",
     "collapsed": false,
     "input": [
      "\n",
      "def lower(sentence):\n",
      "    sentence = str(sentence)\n",
      "    print sentence.title()\n",
      "    return"
     ],
     "language": "python",
     "metadata": {},
     "outputs": [],
     "prompt_number": 23
    },
    {
     "cell_type": "code",
     "collapsed": false,
     "input": [
      "#word = \"RETAIL SALES - MAJOR DEPARTMENT STORES\"\n",
      "word = raw_input(\"Word\")\n",
      "lower(word)"
     ],
     "language": "python",
     "metadata": {},
     "outputs": [
      {
       "name": "stdout",
       "output_type": "stream",
       "stream": "stdout",
       "text": [
        "WordDOMESTIC CORPORATE GOODS PRICE INDEX (2010=100)  ALL COMMODITIES  \n"
       ]
      },
      {
       "output_type": "stream",
       "stream": "stdout",
       "text": [
        "Domestic Corporate Goods Price Index (2010=100)  All Commodities  \n"
       ]
      }
     ],
     "prompt_number": 38
    }
   ],
   "metadata": {}
  }
 ]
}