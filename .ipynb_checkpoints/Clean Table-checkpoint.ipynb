{
 "metadata": {
  "name": "",
  "signature": "sha256:073529a77a2fe3544f9e342e5bc65d428e3e27e96682152b1081cd39e0267c3a"
 },
 "nbformat": 3,
 "nbformat_minor": 0,
 "worksheets": []
}